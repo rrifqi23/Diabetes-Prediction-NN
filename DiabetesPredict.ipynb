{
  "nbformat": 4,
  "nbformat_minor": 0,
  "metadata": {
    "colab": {
      "provenance": [],
      "mount_file_id": "1CRffllrjiWPnDI00yWrZPDVaHIbyK3Hp",
      "authorship_tag": "ABX9TyNfT2DRgyAKwJT+TpzI0Pjk",
      "include_colab_link": true
    },
    "kernelspec": {
      "name": "python3",
      "display_name": "Python 3"
    },
    "language_info": {
      "name": "python"
    },
    "accelerator": "GPU"
  },
  "cells": [
    {
      "cell_type": "markdown",
      "metadata": {
        "id": "view-in-github",
        "colab_type": "text"
      },
      "source": [
        "<a href=\"https://colab.research.google.com/github/rrifqi23/Diabetes-Prediction-NN/blob/main/DiabetesPredict.ipynb\" target=\"_parent\"><img src=\"https://colab.research.google.com/assets/colab-badge.svg\" alt=\"Open In Colab\"/></a>"
      ]
    },
    {
      "cell_type": "code",
      "execution_count": null,
      "metadata": {
        "id": "vjh0e7Lo8-3N"
      },
      "outputs": [],
      "source": [
        "import numpy as np\n",
        "from sklearn.preprocessing import MinMaxScaler\n",
        "import matplotlib.pyplot as plt\n",
        "from sklearn.model_selection import train_test_split\n",
        "from tensorflow.keras.optimizers import Adam\n",
        "from tensorflow.keras.models import Sequential\n",
        "from tensorflow.keras.layers import Dense, Dropout\n",
        "from tensorflow.keras.activations import relu, tanh, sigmoid, softmax"
      ]
    },
    {
      "cell_type": "code",
      "source": [
        "dataset = np.loadtxt(\"/content/drive/MyDrive/Dataset/diabetes.csv\", delimiter=\",\", dtype=float)"
      ],
      "metadata": {
        "id": "xZfCzPO8CVqi"
      },
      "execution_count": null,
      "outputs": []
    },
    {
      "cell_type": "code",
      "source": [
        "features = dataset[:,0:8]\n",
        "labels = dataset[:, 8]"
      ],
      "metadata": {
        "id": "pna5CVS8C65f"
      },
      "execution_count": null,
      "outputs": []
    },
    {
      "cell_type": "code",
      "source": [
        "scaler = MinMaxScaler()\n",
        "features = scaler.fit_transform(features)"
      ],
      "metadata": {
        "id": "EhvwaBdmMKBY"
      },
      "execution_count": null,
      "outputs": []
    },
    {
      "cell_type": "code",
      "source": [
        "training_data,testing_data, training_label, testing_label = train_test_split(features, labels, test_size=0.2, shuffle=True, stratify=labels)"
      ],
      "metadata": {
        "id": "kl1TDo8YM9BB"
      },
      "execution_count": null,
      "outputs": []
    },
    {
      "cell_type": "code",
      "source": [
        "model = Sequential()\n",
        "model.add(Dense(units= 100, input_dim = training_data.shape[1], activation=relu))\n",
        "model.add(Dense(units= 10, activation=relu))\n",
        "model.add(Dense(units= 1, activation=sigmoid))\n",
        "\n",
        "model.compile(optimizer=Adam(learning_rate=0.0001), loss='binary_crossentropy', metrics=['accuracy'])\n",
        "\n",
        "model.save('model.h5')\n"
      ],
      "metadata": {
        "id": "AFn4-D0JOksG"
      },
      "execution_count": null,
      "outputs": []
    },
    {
      "cell_type": "code",
      "source": [
        "acc_training = model.fit(training_data, training_label,\n",
        "                         validation_data=(testing_data,\n",
        "                                          testing_label),\n",
        "                         batch_size=16, epochs=25)\n",
        "acc_testing = model.evaluate(testing_data, testing_label)"
      ],
      "metadata": {
        "colab": {
          "base_uri": "https://localhost:8080/"
        },
        "id": "xTDvXgxwQioQ",
        "outputId": "b9e1e398-5745-409c-9b16-07d4b649ce9b"
      },
      "execution_count": null,
      "outputs": [
        {
          "output_type": "stream",
          "name": "stdout",
          "text": [
            "Epoch 1/25\n",
            "39/39 [==============================] - 1s 7ms/step - loss: 0.6771 - accuracy: 0.6515 - val_loss: 0.6740 - val_accuracy: 0.6494\n",
            "Epoch 2/25\n",
            "39/39 [==============================] - 0s 3ms/step - loss: 0.6734 - accuracy: 0.6515 - val_loss: 0.6705 - val_accuracy: 0.6494\n",
            "Epoch 3/25\n",
            "39/39 [==============================] - 0s 4ms/step - loss: 0.6700 - accuracy: 0.6515 - val_loss: 0.6676 - val_accuracy: 0.6494\n",
            "Epoch 4/25\n",
            "39/39 [==============================] - 0s 4ms/step - loss: 0.6672 - accuracy: 0.6515 - val_loss: 0.6656 - val_accuracy: 0.6494\n",
            "Epoch 5/25\n",
            "39/39 [==============================] - 0s 3ms/step - loss: 0.6648 - accuracy: 0.6515 - val_loss: 0.6638 - val_accuracy: 0.6494\n",
            "Epoch 6/25\n",
            "39/39 [==============================] - 0s 3ms/step - loss: 0.6626 - accuracy: 0.6515 - val_loss: 0.6619 - val_accuracy: 0.6494\n",
            "Epoch 7/25\n",
            "39/39 [==============================] - 0s 4ms/step - loss: 0.6605 - accuracy: 0.6515 - val_loss: 0.6603 - val_accuracy: 0.6494\n",
            "Epoch 8/25\n",
            "39/39 [==============================] - 0s 4ms/step - loss: 0.6586 - accuracy: 0.6515 - val_loss: 0.6587 - val_accuracy: 0.6494\n",
            "Epoch 9/25\n",
            "39/39 [==============================] - 0s 3ms/step - loss: 0.6572 - accuracy: 0.6515 - val_loss: 0.6574 - val_accuracy: 0.6494\n",
            "Epoch 10/25\n",
            "39/39 [==============================] - 0s 4ms/step - loss: 0.6552 - accuracy: 0.6515 - val_loss: 0.6558 - val_accuracy: 0.6494\n",
            "Epoch 11/25\n",
            "39/39 [==============================] - 0s 4ms/step - loss: 0.6528 - accuracy: 0.6515 - val_loss: 0.6541 - val_accuracy: 0.6494\n",
            "Epoch 12/25\n",
            "39/39 [==============================] - 0s 4ms/step - loss: 0.6506 - accuracy: 0.6515 - val_loss: 0.6525 - val_accuracy: 0.6494\n",
            "Epoch 13/25\n",
            "39/39 [==============================] - 0s 4ms/step - loss: 0.6483 - accuracy: 0.6515 - val_loss: 0.6506 - val_accuracy: 0.6494\n",
            "Epoch 14/25\n",
            "39/39 [==============================] - 0s 4ms/step - loss: 0.6460 - accuracy: 0.6515 - val_loss: 0.6489 - val_accuracy: 0.6494\n",
            "Epoch 15/25\n",
            "39/39 [==============================] - 0s 3ms/step - loss: 0.6436 - accuracy: 0.6515 - val_loss: 0.6471 - val_accuracy: 0.6558\n",
            "Epoch 16/25\n",
            "39/39 [==============================] - 0s 4ms/step - loss: 0.6410 - accuracy: 0.6515 - val_loss: 0.6454 - val_accuracy: 0.6494\n",
            "Epoch 17/25\n",
            "39/39 [==============================] - 0s 4ms/step - loss: 0.6389 - accuracy: 0.6531 - val_loss: 0.6436 - val_accuracy: 0.6494\n",
            "Epoch 18/25\n",
            "39/39 [==============================] - 0s 4ms/step - loss: 0.6360 - accuracy: 0.6531 - val_loss: 0.6417 - val_accuracy: 0.6494\n",
            "Epoch 19/25\n",
            "39/39 [==============================] - 0s 3ms/step - loss: 0.6336 - accuracy: 0.6547 - val_loss: 0.6400 - val_accuracy: 0.6494\n",
            "Epoch 20/25\n",
            "39/39 [==============================] - 0s 4ms/step - loss: 0.6312 - accuracy: 0.6564 - val_loss: 0.6381 - val_accuracy: 0.6494\n",
            "Epoch 21/25\n",
            "39/39 [==============================] - 0s 4ms/step - loss: 0.6287 - accuracy: 0.6596 - val_loss: 0.6363 - val_accuracy: 0.6429\n",
            "Epoch 22/25\n",
            "39/39 [==============================] - 0s 3ms/step - loss: 0.6265 - accuracy: 0.6612 - val_loss: 0.6345 - val_accuracy: 0.6429\n",
            "Epoch 23/25\n",
            "39/39 [==============================] - 0s 4ms/step - loss: 0.6242 - accuracy: 0.6694 - val_loss: 0.6330 - val_accuracy: 0.6364\n",
            "Epoch 24/25\n",
            "39/39 [==============================] - 0s 4ms/step - loss: 0.6216 - accuracy: 0.6759 - val_loss: 0.6311 - val_accuracy: 0.6299\n",
            "Epoch 25/25\n",
            "39/39 [==============================] - 0s 4ms/step - loss: 0.6192 - accuracy: 0.6743 - val_loss: 0.6294 - val_accuracy: 0.6429\n",
            "5/5 [==============================] - 0s 3ms/step - loss: 0.6294 - accuracy: 0.6429\n"
          ]
        }
      ]
    },
    {
      "cell_type": "code",
      "source": [
        "data = np.array([[1,115,70,30,96,34.6,0.529,32]], dtype=float)\n",
        "\n",
        "result = model.predict(data);\n",
        "\n",
        "print(result)"
      ],
      "metadata": {
        "colab": {
          "base_uri": "https://localhost:8080/"
        },
        "id": "X2r30Z5TRW6T",
        "outputId": "d39ddc8d-06b1-4a5a-9f26-dc449f0638e9"
      },
      "execution_count": null,
      "outputs": [
        {
          "output_type": "stream",
          "name": "stdout",
          "text": [
            "[[0.49037388]]\n"
          ]
        }
      ]
    }
  ]
}